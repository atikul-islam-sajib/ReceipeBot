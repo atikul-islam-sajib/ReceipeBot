{
 "cells": [
  {
   "cell_type": "markdown",
   "metadata": {},
   "source": [
    "### Import all necessity library "
   ]
  },
  {
   "cell_type": "code",
   "execution_count": null,
   "metadata": {},
   "outputs": [],
   "source": [
    "import os\n",
    "import warnings\n",
    "from dotenv import load_dotenv\n",
    "\n",
    "\n",
    "from langchain.llms import OpenAI\n",
    "from langchain.chains import RetrievalQA\n",
    "from langchain.vectorstores import Chroma\n",
    "from langchain.prompts import PromptTemplate\n",
    "from langchain.embeddings import OpenAIEmbeddings\n",
    "from langchain.memory import ConversationBufferMemory\n",
    "from langchain.document_loaders import DirectoryLoader, PyPDFLoader\n",
    "from langchain.text_splitter import RecursiveCharacterTextSplitter\n",
    "\n",
    "warnings.filterwarnings(\"ignore\")\n",
    "\n",
    "load_dotenv()"
   ]
  },
  {
   "cell_type": "markdown",
   "metadata": {},
   "source": [
    "### Initialize the parameters"
   ]
  },
  {
   "cell_type": "code",
   "execution_count": null,
   "metadata": {},
   "outputs": [],
   "source": [
    "chunk_size = 1000\n",
    "chunk_overlap = 200\n",
    "PDFs_PATH = \"../../data/PDFs\"\n",
    "persist_directory = \"../../db\""
   ]
  },
  {
   "cell_type": "markdown",
   "metadata": {},
   "source": [
    "### Define the OpenAI APIs"
   ]
  },
  {
   "cell_type": "code",
   "execution_count": null,
   "metadata": {},
   "outputs": [],
   "source": [
    "try:\n",
    "    OPENAI_API_KEY = os.getenv(\"OPENAI_API_KEY\")\n",
    "except Exception as e:\n",
    "    print(\"An error occurred:\".capitalize(), e)\n",
    "    raise "
   ]
  },
  {
   "cell_type": "markdown",
   "metadata": {},
   "source": [
    "### Utils"
   ]
  },
  {
   "cell_type": "code",
   "execution_count": null,
   "metadata": {},
   "outputs": [],
   "source": [
    "import yaml\n",
    "import joblib\n",
    "\n",
    "\n",
    "def dump(value=None, filename=None):\n",
    "    if (value is not None) and (filename is not None):\n",
    "        joblib.dump(value=value, filename=filename)\n",
    "\n",
    "    else:\n",
    "        raise Exception(\"value and filename must be provided\".capitalize())\n",
    "\n",
    "\n",
    "def load(filename=None):\n",
    "    if filename is not None:\n",
    "        return joblib.load(filename=filename)\n",
    "\n",
    "    else:\n",
    "        raise Exception(\"Filename should be passed\".capitalize())\n",
    "\n",
    "\n",
    "def config():\n",
    "    with open(\"./config.yml\", \"r\") as file:\n",
    "        return yaml.safe_load(file)"
   ]
  },
  {
   "cell_type": "markdown",
   "metadata": {},
   "source": [
    "### Extract the dataset"
   ]
  },
  {
   "cell_type": "code",
   "execution_count": null,
   "metadata": {},
   "outputs": [],
   "source": [
    "loader = DirectoryLoader(\n",
    "    path=PDFs_PATH,\n",
    "    glob=\"**/*.pdf\",\n",
    "    use_multithreading=True,\n",
    "    loader_cls=PyPDFLoader\n",
    ")\n",
    "\n",
    "documents = loader.load()\n",
    "\n",
    "text_splitter = RecursiveCharacterTextSplitter(\n",
    "    chunk_size=chunk_size,\n",
    "    chunk_overlap=chunk_overlap\n",
    ")\n",
    "\n",
    "documents = text_splitter.split_documents(documents = documents)"
   ]
  },
  {
   "cell_type": "markdown",
   "metadata": {},
   "source": [
    "### Store the tokens into VectorDB"
   ]
  },
  {
   "cell_type": "code",
   "execution_count": null,
   "metadata": {},
   "outputs": [],
   "source": [
    "vectordb = Chroma.from_documents(\n",
    "    documents=documents,\n",
    "    embedding=OpenAIEmbeddings(),\n",
    "    persist_directory=persist_directory\n",
    ")"
   ]
  },
  {
   "cell_type": "markdown",
   "metadata": {},
   "source": [
    "### Persist DB to Disk"
   ]
  },
  {
   "cell_type": "code",
   "execution_count": null,
   "metadata": {},
   "outputs": [],
   "source": [
    "def access_to_db(self):\n",
    "    self.database = Chroma(\n",
    "        embedding_function=OpenAIEmbeddings(),\n",
    "        persist_directory=self.CONFIG[\"path\"][\"DATABASE_PATH\"]\n",
    "    )\n",
    "\n",
    "    return self.database"
   ]
  },
  {
   "cell_type": "markdown",
   "metadata": {},
   "source": [
    "### Prompt Initialise"
   ]
  },
  {
   "cell_type": "code",
   "execution_count": null,
   "metadata": {},
   "outputs": [],
   "source": [
    "template = \"\"\"\n",
    "Use the following context and chat history to answer the question:\n",
    "------\n",
    "Context:\n",
    "{context}\n",
    "------\n",
    "Chat History:\n",
    "{history}\n",
    "------\n",
    "Question:\n",
    "{question}\n",
    "Answer:\n",
    "\"\"\""
   ]
  },
  {
   "cell_type": "code",
   "execution_count": null,
   "metadata": {},
   "outputs": [],
   "source": [
    "def chatReceipe(self):\n",
    "    self.database = self.access_to_db()\n",
    "\n",
    "    self.retriever = self.database.as_retriever(\n",
    "            search_kwargs={\"k\": self.CONFIG[\"retriever\"][\"k\"]}\n",
    "    )\n",
    "\n",
    "    self.prompt = PromptTemplate(\n",
    "        input_variables=[\"context\", \"question\", \"history\"], template=template\n",
    "    )\n",
    "    self.memory = ConversationBufferMemory(\n",
    "        input_key=\"question\", memory_key=\"history\"\n",
    "    )\n",
    "\n",
    "    self.chain = RetrievalQA.from_chain_type(\n",
    "        llm=OpenAI(\n",
    "            temperature=self.CONFIG[\"OpenAI\"][\"temperature\"],\n",
    "            model_name=self.CONFIG[\"OpenAI\"][\"model\"],\n",
    "            openai_api_key=self.access_api_key(),\n",
    "        ),\n",
    "        chain_type=\"stuff\",\n",
    "        retriever=self.retriever,\n",
    "        chain_type_kwargs={\"prompt\": self.prompt, \"memory\": self.memory},\n",
    "    )\n",
    "\n",
    "    while self.chat_limit != 0:\n",
    "        inputs = input(\"Query: \")\n",
    "        result = self.chain(inputs=inputs)[\"result\"]\n",
    "\n",
    "        print(\"Answer:\", result)\n",
    "\n",
    "        self.chat_limit -= 1\n",
    "\n",
    "    print(\"You have crossed the limit for today, Have a nice day !\".capitalize())"
   ]
  }
 ],
 "metadata": {
  "kernelspec": {
   "display_name": "receipe",
   "language": "python",
   "name": "python3"
  },
  "language_info": {
   "codemirror_mode": {
    "name": "ipython",
    "version": 3
   },
   "file_extension": ".py",
   "mimetype": "text/x-python",
   "name": "python",
   "nbconvert_exporter": "python",
   "pygments_lexer": "ipython3",
   "version": "3.11.9"
  }
 },
 "nbformat": 4,
 "nbformat_minor": 2
}
